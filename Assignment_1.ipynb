{
  "nbformat": 4,
  "nbformat_minor": 0,
  "metadata": {
    "colab": {
      "provenance": [],
      "authorship_tag": "ABX9TyPmxvA1DxMpEWAR3iWRntCD",
      "include_colab_link": true
    },
    "kernelspec": {
      "name": "python3",
      "display_name": "Python 3"
    },
    "language_info": {
      "name": "python"
    }
  },
  "cells": [
    {
      "cell_type": "markdown",
      "metadata": {
        "id": "view-in-github",
        "colab_type": "text"
      },
      "source": [
        "<a href=\"https://colab.research.google.com/github/pratikagithub/Assignments/blob/main/Assignment_1.ipynb\" target=\"_parent\"><img src=\"https://colab.research.google.com/assets/colab-badge.svg\" alt=\"Open In Colab\"/></a>"
      ]
    },
    {
      "cell_type": "markdown",
      "source": [
        "**Task**\n",
        "\n",
        "Create a system where you can define and interact with Student objects using only classes, objects, and properties.\n",
        "\n",
        "1. Requirements\n",
        "  Define a Class\n",
        "\n",
        "  Create a class named Student.\n",
        "\n",
        "  Add the following properties:\n",
        "\n",
        "    Name (string)\n",
        "\n",
        "    RollNumber (int)\n",
        "\n",
        "    Course (string)\n",
        "\n",
        "    Age (int)\n",
        "\n",
        "2. Create Objects\n",
        "\n",
        "  In the Main() method:\n",
        "\n",
        "  Create 3 student objects with unique values for the properties.\n",
        "\n",
        "  Use object initialization syntax to set property values.\n",
        "\n",
        "3. Display Property Values\n",
        "\n",
        "  Print the details of each student using their properties."
      ],
      "metadata": {
        "id": "mVDtZBHAbwUE"
      }
    },
    {
      "cell_type": "code",
      "execution_count": 1,
      "metadata": {
        "id": "NKMIVxEHbZ8Q"
      },
      "outputs": [],
      "source": [
        "# 1. Define the Student class\n",
        "class Student:\n",
        "    def __init__(self, name, roll_number, course, age):\n",
        "        self.name = name\n",
        "        self.roll_number = roll_number\n",
        "        self.course = course\n",
        "        self.age = age"
      ]
    },
    {
      "cell_type": "code",
      "source": [
        "# 2. Create object\n",
        "# Main function\n",
        "def main():\n",
        "    # Create Student objects\n",
        "    student1 = Student(name=\"Anchal Tomar\", roll_number=1, course=\"LLB\", age=21)\n",
        "    student2 = Student(name=\"Pratika Chauhan\", roll_number=2, course=\"M.Sc\", age=22)\n",
        "    student3 = Student(name=\"Zainab Nawaz\", roll_number=3, course=\"MA\", age=23)\n",
        "\n",
        "# 3. Display property values\n",
        "    print_student_details(student1)\n",
        "    print_student_details(student2)\n",
        "    print_student_details(student3)\n",
        "\n",
        "# Function to print student details\n",
        "def print_student_details(student):\n",
        "    print(f\"Name: {student.name}\")\n",
        "    print(f\"Roll Number: {student.roll_number}\")\n",
        "    print(f\"Course: {student.course}\")\n",
        "    print(f\"Age: {student.age}\")\n",
        "    print()\n",
        "\n",
        "# Run the program\n",
        "if __name__ == \"__main__\":\n",
        "    main()"
      ],
      "metadata": {
        "colab": {
          "base_uri": "https://localhost:8080/"
        },
        "id": "BXR5FYITcarE",
        "outputId": "57c4c584-17cd-45d6-a3ec-4b2770695506"
      },
      "execution_count": 6,
      "outputs": [
        {
          "output_type": "stream",
          "name": "stdout",
          "text": [
            "Name: Anchal Tomar\n",
            "Roll Number: 1\n",
            "Course: LLB\n",
            "Age: 21\n",
            "\n",
            "Name: Pratika Chauhan\n",
            "Roll Number: 2\n",
            "Course: M.Sc\n",
            "Age: 22\n",
            "\n",
            "Name: Zainab Nawaz\n",
            "Roll Number: 3\n",
            "Course: MA\n",
            "Age: 23\n",
            "\n"
          ]
        }
      ]
    }
  ]
}
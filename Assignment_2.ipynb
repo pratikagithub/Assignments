{
  "cells": [
    {
      "cell_type": "markdown",
      "metadata": {
        "id": "uhFvZWrez5OK"
      },
      "source": [
        "Assignment: Employee Notification System\n",
        "\n",
        "Use Case:\n",
        "\n",
        "Your organization wants to implement a Notification System to inform employees about updates, events, or alerts. Notifications can be sent through various channels, such as email, SMS, and push notifications. Each channel has a different implementation, but all follow a common interface.\n",
        "The system should allow selecting the notification type dynamically and ensure that it can be extended in the future without modifying the existing code.\n",
        "________________________________________\n",
        "Task Description:\n",
        "You are required to implement a Notification System with the following functionality:\n",
        "1.\tAbstraction: Define a common contract for sending notifications through different channels.\n",
        "2.\tInheritance: Implement specific notification types inheriting from the base class.\n",
        "3.\tDynamic Selection: The system should allow selecting a notification type (email, SMS, or push notification) at runtime and send messages accordingly.\n",
        "________________________________________\n",
        "Scenario:\n",
        "Imagine a situation where:\n",
        "1.\tNew Policy Announcement: HR needs to notify employees about a new policy update.\n",
        "2.\tEvent Reminder: The Events team wants to send a reminder for an upcoming office event.\n",
        "3.\tSystem Alert: IT wants to notify employees about a scheduled server downtime.\n",
        "Each of these notifications can be sent through email, SMS, or push notifications depending on the employee's preferences.\n"
      ]
    },
    {
      "cell_type": "code",
      "execution_count": 3,
      "metadata": {
        "colab": {
          "base_uri": "https://localhost:8080/"
        },
        "id": "mYjZl5wYzmDz",
        "outputId": "42f345ac-9343-4df7-992a-085c871f5b3c"
      },
      "outputs": [
        {
          "output_type": "stream",
          "name": "stdout",
          "text": [
            "Sending Email to hr@company.com: New policy update: Please review the new leave policy.\n",
            "Sending SMS to +6395634627: Reminder: Don't miss the office annual party this Friday!\n",
            "Sending Push Notification to EmployeeGroupPush: Scheduled server downtime from 2 AM to 4 AM.\n"
          ]
        }
      ],
      "source": [
        "from abc import ABC, abstractmethod\n",
        "\n",
        "# 1. Abstraction: Define a common contract for notification channels\n",
        "class NotificationChannel(ABC):\n",
        "    @abstractmethod\n",
        "    def send(self, message, recipient):\n",
        "        pass\n",
        "\n",
        "# 2. Inheritance: Implement specific notification channels\n",
        "class EmailNotification(NotificationChannel):\n",
        "    def send(self, message, recipient):\n",
        "        print(f\"Sending Email to {recipient}: {message}\")\n",
        "\n",
        "class SMSNotification(NotificationChannel):\n",
        "    def send(self, message, recipient):\n",
        "        print(f\"Sending SMS to {recipient}: {message}\")\n",
        "\n",
        "class PushNotification(NotificationChannel):\n",
        "    def send(self, message, recipient):\n",
        "        print(f\"Sending Push Notification to {recipient}: {message}\")\n",
        "\n",
        "# 3. Dynamic Selection and Notification System\n",
        "class NotificationSystem:\n",
        "    def __init__(self, channel: NotificationChannel):\n",
        "        self.channel = channel\n",
        "\n",
        "    def notify(self, message, recipient):\n",
        "        self.channel.send(message, recipient)\n",
        "\n",
        "# Usage Scenarios\n",
        "if __name__ == \"__main__\":\n",
        "    # New Policy Announcement\n",
        "    policy_of_message = \"New policy update: Please review the new leave policy.\"\n",
        "    policy_of_recipient = \"hr@company.com\"\n",
        "    email_notification = NotificationSystem(EmailNotification())\n",
        "    email_notification.notify(policy_of_message, policy_of_recipient)\n",
        "\n",
        "    # Event Reminder\n",
        "    message_of_events = \"Reminder: Don't miss the office annual party this Friday!\"\n",
        "    recipient_of_events = \"+6395634627\"\n",
        "    sms_notification = NotificationSystem(SMSNotification())\n",
        "    sms_notification.notify(message_of_events, recipient_of_events)\n",
        "\n",
        "    # System Alert\n",
        "    message_alert = \"Scheduled server downtime from 2 AM to 4 AM.\"\n",
        "    recipient_alert = \"EmployeeGroupPush\"\n",
        "    push_notification = NotificationSystem(PushNotification())\n",
        "    push_notification.notify(message_alert, recipient_alert)"
      ]
    }
  ],
  "metadata": {
    "colab": {
      "provenance": []
    },
    "kernelspec": {
      "display_name": "Python 3",
      "name": "python3"
    },
    "language_info": {
      "name": "python"
    }
  },
  "nbformat": 4,
  "nbformat_minor": 0
}